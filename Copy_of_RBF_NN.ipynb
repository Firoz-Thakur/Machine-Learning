{
  "nbformat": 4,
  "nbformat_minor": 0,
  "metadata": {
    "colab": {
      "name": "Copy of RBF_NN.ipynb",
      "provenance": [],
      "include_colab_link": true
    },
    "kernelspec": {
      "name": "python3",
      "display_name": "Python 3"
    }
  },
  "cells": [
    {
      "cell_type": "markdown",
      "metadata": {
        "id": "view-in-github",
        "colab_type": "text"
      },
      "source": [
        "<a href=\"https://colab.research.google.com/github/Firoz-kumar-3/ML/blob/master/Copy_of_RBF_NN.ipynb\" target=\"_parent\"><img src=\"https://colab.research.google.com/assets/colab-badge.svg\" alt=\"Open In Colab\"/></a>"
      ]
    },
    {
      "cell_type": "code",
      "metadata": {
        "id": "VJFRSa2_wdlA",
        "colab_type": "code",
        "colab": {}
      },
      "source": [
        "import numpy as np"
      ],
      "execution_count": null,
      "outputs": []
    },
    {
      "cell_type": "code",
      "metadata": {
        "id": "Pbdr8wM7y6jZ",
        "colab_type": "code",
        "colab": {}
      },
      "source": [
        "X=np.array([[0,0],[0,1],[1,0],[1,1]])"
      ],
      "execution_count": null,
      "outputs": []
    },
    {
      "cell_type": "code",
      "metadata": {
        "id": "tWH4ROSmzC9S",
        "colab_type": "code",
        "colab": {
          "base_uri": "https://localhost:8080/",
          "height": 91
        },
        "outputId": "a71c4cd9-8507-47f7-938f-1e7602c3ac81"
      },
      "source": [
        "X"
      ],
      "execution_count": null,
      "outputs": [
        {
          "output_type": "execute_result",
          "data": {
            "text/plain": [
              "array([[0, 0],\n",
              "       [0, 1],\n",
              "       [1, 0],\n",
              "       [1, 1]])"
            ]
          },
          "metadata": {
            "tags": []
          },
          "execution_count": 3
        }
      ]
    },
    {
      "cell_type": "code",
      "metadata": {
        "id": "WkABSYqZzED7",
        "colab_type": "code",
        "colab": {}
      },
      "source": [
        "target=np.array([0,1,1,0])"
      ],
      "execution_count": null,
      "outputs": []
    },
    {
      "cell_type": "code",
      "metadata": {
        "id": "k5oDvKyUzJGP",
        "colab_type": "code",
        "colab": {}
      },
      "source": [
        "def func1(x):\n",
        "  beta=0.5\n",
        "  mu=np.array([0,0])\n",
        "  return(np.exp(-beta*(np.sum((x-mu))**2)))"
      ],
      "execution_count": null,
      "outputs": []
    },
    {
      "cell_type": "code",
      "metadata": {
        "id": "32nD17Lb0Q59",
        "colab_type": "code",
        "colab": {}
      },
      "source": [
        "def func2(x):\n",
        "  beta=0.5\n",
        "  mu=np.array([0,1])\n",
        "  return(np.exp(-beta*(np.sum((x-mu))**2)))"
      ],
      "execution_count": null,
      "outputs": []
    },
    {
      "cell_type": "code",
      "metadata": {
        "id": "KPr-q2s50TsY",
        "colab_type": "code",
        "colab": {}
      },
      "source": [
        "def func3(x):\n",
        "  beta=0.5\n",
        "  mu=np.array([1,0])\n",
        "  return(np.exp(-beta*(np.sum((x-mu))**2)))"
      ],
      "execution_count": null,
      "outputs": []
    },
    {
      "cell_type": "code",
      "metadata": {
        "id": "hfmQBxUe0WSA",
        "colab_type": "code",
        "colab": {}
      },
      "source": [
        "def func4(x):\n",
        "  beta=0.5\n",
        "  mu=np.array([1,1])\n",
        "  return(np.exp(-beta*(np.sum((x-mu))**2)))"
      ],
      "execution_count": null,
      "outputs": []
    },
    {
      "cell_type": "code",
      "metadata": {
        "id": "p7zcOb1K0kPu",
        "colab_type": "code",
        "colab": {
          "base_uri": "https://localhost:8080/",
          "height": 91
        },
        "outputId": "97eda165-15ba-4a29-b725-812c64fee956"
      },
      "source": [
        "hidden_input=[]\n",
        "for i in range(4):\n",
        "  print(\"Input: \", X[i])\n",
        "  hidden_input.append([])\n",
        "  hidden_input[i].append(func1(X[i]))\n",
        "  hidden_input[i].append(func2(X[i]))\n",
        "  hidden_input[i].append(func3(X[i]))\n",
        "  hidden_input[i].append(func4(X[i]))"
      ],
      "execution_count": null,
      "outputs": [
        {
          "output_type": "stream",
          "text": [
            "Input:  [0 0]\n",
            "Input:  [0 1]\n",
            "Input:  [1 0]\n",
            "Input:  [1 1]\n"
          ],
          "name": "stdout"
        }
      ]
    },
    {
      "cell_type": "code",
      "metadata": {
        "id": "rEiAkcIf09bZ",
        "colab_type": "code",
        "colab": {
          "base_uri": "https://localhost:8080/",
          "height": 91
        },
        "outputId": "e1e6d377-ceb6-4f89-9068-f3aff1dc7595"
      },
      "source": [
        "hidden_input"
      ],
      "execution_count": null,
      "outputs": [
        {
          "output_type": "execute_result",
          "data": {
            "text/plain": [
              "[[1.0, 0.6065306597126334, 0.6065306597126334, 0.1353352832366127],\n",
              " [0.6065306597126334, 1.0, 1.0, 0.6065306597126334],\n",
              " [0.6065306597126334, 1.0, 1.0, 0.6065306597126334],\n",
              " [0.1353352832366127, 0.6065306597126334, 0.6065306597126334, 1.0]]"
            ]
          },
          "metadata": {
            "tags": []
          },
          "execution_count": 14
        }
      ]
    },
    {
      "cell_type": "code",
      "metadata": {
        "id": "4id5oFkY2QSv",
        "colab_type": "code",
        "colab": {}
      },
      "source": [
        "hidden=np.array(hidden_input)"
      ],
      "execution_count": null,
      "outputs": []
    },
    {
      "cell_type": "code",
      "metadata": {
        "id": "KrvsMtMh2h8e",
        "colab_type": "code",
        "colab": {}
      },
      "source": [
        "weights=np.array([1, 1, 1, 1])"
      ],
      "execution_count": null,
      "outputs": []
    },
    {
      "cell_type": "code",
      "metadata": {
        "id": "pIP09Phb2uUp",
        "colab_type": "code",
        "colab": {}
      },
      "source": [
        "bias=1"
      ],
      "execution_count": null,
      "outputs": []
    },
    {
      "cell_type": "code",
      "metadata": {
        "id": "jTln3Ftx261E",
        "colab_type": "code",
        "colab": {}
      },
      "source": [
        "lr=1"
      ],
      "execution_count": null,
      "outputs": []
    },
    {
      "cell_type": "code",
      "metadata": {
        "id": "JViCo_-w3DaW",
        "colab_type": "code",
        "colab": {}
      },
      "source": [
        "for i in range(10):\n",
        "  print(\"Iteration: \",i)\n",
        "  for j in range(4):\n",
        "    print(\"Input: \", X[i])"
      ],
      "execution_count": null,
      "outputs": []
    }
  ]
}