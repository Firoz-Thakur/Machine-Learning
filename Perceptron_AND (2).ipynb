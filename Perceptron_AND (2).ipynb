{
 "cells": [
  {
   "cell_type": "code",
   "execution_count": 1,
   "metadata": {},
   "outputs": [],
   "source": [
    "import numpy as np"
   ]
  },
  {
   "cell_type": "code",
   "execution_count": 2,
   "metadata": {},
   "outputs": [],
   "source": [
    "x1=[0,0, 1 , 1]\n",
    "x2=[0,1, 0, 1]\n",
    "target=[0,0,0,1]"
   ]
  },
  {
   "cell_type": "code",
   "execution_count": 3,
   "metadata": {},
   "outputs": [],
   "source": [
    "weights=[1, 1, 1]"
   ]
  },
  {
   "cell_type": "code",
   "execution_count": 4,
   "metadata": {},
   "outputs": [],
   "source": [
    "lr_rate=1"
   ]
  },
  {
   "cell_type": "code",
   "execution_count": 5,
   "metadata": {},
   "outputs": [],
   "source": [
    "epochs=10"
   ]
  },
  {
   "cell_type": "code",
   "execution_count": 6,
   "metadata": {},
   "outputs": [],
   "source": [
    "def threshold(x):\n",
    "    print(\"x: \", x)\n",
    "    if x>=0:\n",
    "        return 1\n",
    "    else:\n",
    "        return 0"
   ]
  },
  {
   "cell_type": "code",
   "execution_count": 7,
   "metadata": {},
   "outputs": [
    {
     "name": "stdout",
     "output_type": "stream",
     "text": [
      "iteration Number:  0\n",
      "input data:  0 0\n",
      "x:  1\n",
      "obtained Output:  1\n",
      "Error:  -1\n",
      "After updation: \n",
      "[0, 1, 1]\n",
      "input data:  0 1\n",
      "x:  1\n",
      "obtained Output:  1\n",
      "Error:  -1\n",
      "After updation: \n",
      "[-1, 1, 0]\n",
      "input data:  1 0\n",
      "x:  0\n",
      "obtained Output:  1\n",
      "Error:  -1\n",
      "After updation: \n",
      "[-2, 0, 0]\n",
      "input data:  1 1\n",
      "x:  -2\n",
      "obtained Output:  0\n",
      "Error:  1\n",
      "After updation: \n",
      "[-1, 1, 1]\n",
      "iteration Number:  1\n",
      "input data:  0 0\n",
      "x:  -1\n",
      "obtained Output:  0\n",
      "Error:  0\n",
      "After updation: \n",
      "[-1, 1, 1]\n",
      "input data:  0 1\n",
      "x:  0\n",
      "obtained Output:  1\n",
      "Error:  -1\n",
      "After updation: \n",
      "[-2, 1, 0]\n",
      "input data:  1 0\n",
      "x:  -1\n",
      "obtained Output:  0\n",
      "Error:  0\n",
      "After updation: \n",
      "[-2, 1, 0]\n",
      "input data:  1 1\n",
      "x:  -1\n",
      "obtained Output:  0\n",
      "Error:  1\n",
      "After updation: \n",
      "[-1, 2, 1]\n",
      "iteration Number:  2\n",
      "input data:  0 0\n",
      "x:  -1\n",
      "obtained Output:  0\n",
      "Error:  0\n",
      "After updation: \n",
      "[-1, 2, 1]\n",
      "input data:  0 1\n",
      "x:  0\n",
      "obtained Output:  1\n",
      "Error:  -1\n",
      "After updation: \n",
      "[-2, 2, 0]\n",
      "input data:  1 0\n",
      "x:  0\n",
      "obtained Output:  1\n",
      "Error:  -1\n",
      "After updation: \n",
      "[-3, 1, 0]\n",
      "input data:  1 1\n",
      "x:  -2\n",
      "obtained Output:  0\n",
      "Error:  1\n",
      "After updation: \n",
      "[-2, 2, 1]\n",
      "iteration Number:  3\n",
      "input data:  0 0\n",
      "x:  -2\n",
      "obtained Output:  0\n",
      "Error:  0\n",
      "After updation: \n",
      "[-2, 2, 1]\n",
      "input data:  0 1\n",
      "x:  -1\n",
      "obtained Output:  0\n",
      "Error:  0\n",
      "After updation: \n",
      "[-2, 2, 1]\n",
      "input data:  1 0\n",
      "x:  0\n",
      "obtained Output:  1\n",
      "Error:  -1\n",
      "After updation: \n",
      "[-3, 1, 1]\n",
      "input data:  1 1\n",
      "x:  -1\n",
      "obtained Output:  0\n",
      "Error:  1\n",
      "After updation: \n",
      "[-2, 2, 2]\n",
      "iteration Number:  4\n",
      "input data:  0 0\n",
      "x:  -2\n",
      "obtained Output:  0\n",
      "Error:  0\n",
      "After updation: \n",
      "[-2, 2, 2]\n",
      "input data:  0 1\n",
      "x:  0\n",
      "obtained Output:  1\n",
      "Error:  -1\n",
      "After updation: \n",
      "[-3, 2, 1]\n",
      "input data:  1 0\n",
      "x:  -1\n",
      "obtained Output:  0\n",
      "Error:  0\n",
      "After updation: \n",
      "[-3, 2, 1]\n",
      "input data:  1 1\n",
      "x:  0\n",
      "obtained Output:  1\n",
      "Error:  0\n",
      "After updation: \n",
      "[-3, 2, 1]\n",
      "iteration Number:  5\n",
      "input data:  0 0\n",
      "x:  -3\n",
      "obtained Output:  0\n",
      "Error:  0\n",
      "After updation: \n",
      "[-3, 2, 1]\n",
      "input data:  0 1\n",
      "x:  -2\n",
      "obtained Output:  0\n",
      "Error:  0\n",
      "After updation: \n",
      "[-3, 2, 1]\n",
      "input data:  1 0\n",
      "x:  -1\n",
      "obtained Output:  0\n",
      "Error:  0\n",
      "After updation: \n",
      "[-3, 2, 1]\n",
      "input data:  1 1\n",
      "x:  0\n",
      "obtained Output:  1\n",
      "Error:  0\n",
      "After updation: \n",
      "[-3, 2, 1]\n",
      "Model trained perfectly\n",
      "[0, 0, 0, 0]\n"
     ]
    }
   ],
   "source": [
    "\n",
    "for i in range(50):\n",
    "    error=[]\n",
    "    print(\"iteration Number: \",i)\n",
    "    k=0\n",
    "    for i in range(4):\n",
    "        print(\"input data: \", x1[i], x2[i])\n",
    "        s=0\n",
    "        s+=1*weights[0]+x1[i]*weights[1]+x2[i]*weights[2]\n",
    "        result=threshold(s)\n",
    "        print(\"obtained Output: \",result)\n",
    "        error.append(target[i]-result)\n",
    "        print(\"Error: \", error[i])\n",
    "        if error[i]!=0:\n",
    "            k+=1\n",
    "            weights[0]=weights[0]+error[i]*1*lr_rate\n",
    "            weights[1]=weights[1]+error[i]*x1[i]*lr_rate\n",
    "            weights[2]+=error[i]*x2[i]*lr_rate\n",
    "        print(\"After updation: \")\n",
    "        print(weights)\n",
    "        \n",
    "    if k==0:\n",
    "        print(\"Model trained perfectly\")\n",
    "        print(error)\n",
    "        break\n",
    "\n",
    "        \n",
    "        "
   ]
  },
  {
   "cell_type": "code",
   "execution_count": 8,
   "metadata": {},
   "outputs": [
    {
     "data": {
      "text/plain": [
       "2"
      ]
     },
     "execution_count": 8,
     "metadata": {},
     "output_type": "execute_result"
    }
   ],
   "source": [
    "sum(x1)"
   ]
  },
  {
   "cell_type": "code",
   "execution_count": null,
   "metadata": {},
   "outputs": [],
   "source": []
  }
 ],
 "metadata": {
  "kernelspec": {
   "display_name": "Python 3",
   "language": "python",
   "name": "python3"
  },
  "language_info": {
   "codemirror_mode": {
    "name": "ipython",
    "version": 3
   },
   "file_extension": ".py",
   "mimetype": "text/x-python",
   "name": "python",
   "nbconvert_exporter": "python",
   "pygments_lexer": "ipython3",
   "version": "3.6.5"
  }
 },
 "nbformat": 4,
 "nbformat_minor": 2
}
