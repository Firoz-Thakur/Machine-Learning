{
  "nbformat": 4,
  "nbformat_minor": 0,
  "metadata": {
    "colab": {
      "name": "RBF_NN.ipynb",
      "provenance": []
    },
    "kernelspec": {
      "name": "python3",
      "display_name": "Python 3"
    }
  },
  "cells": [
    {
      "cell_type": "code",
      "metadata": {
        "id": "VJFRSa2_wdlA",
        "colab_type": "code",
        "colab": {}
      },
      "source": [
        "import numpy as np"
      ],
      "execution_count": null,
      "outputs": []
    },
    {
      "cell_type": "code",
      "metadata": {
        "id": "Pbdr8wM7y6jZ",
        "colab_type": "code",
        "colab": {}
      },
      "source": [
        "X=np.array([[0,0],[0,1],[1,0],[1,1]])"
      ],
      "execution_count": null,
      "outputs": []
    },
    {
      "cell_type": "code",
      "metadata": {
        "id": "tWH4ROSmzC9S",
        "colab_type": "code",
        "colab": {
          "base_uri": "https://localhost:8080/",
          "height": 91
        },
        "outputId": "a71c4cd9-8507-47f7-938f-1e7602c3ac81"
      },
      "source": [
        "X"
      ],
      "execution_count": null,
      "outputs": [
        {
          "output_type": "execute_result",
          "data": {
            "text/plain": [
              "array([[0, 0],\n",
              "       [0, 1],\n",
              "       [1, 0],\n",
              "       [1, 1]])"
            ]
          },
          "metadata": {
            "tags": []
          },
          "execution_count": 3
        }
      ]
    },
    {
      "cell_type": "code",
      "metadata": {
        "id": "WkABSYqZzED7",
        "colab_type": "code",
        "colab": {}
      },
      "source": [
        "target=np.array([0,1,1,0])"
      ],
      "execution_count": null,
      "outputs": []
    },
    {
      "cell_type": "code",
      "metadata": {
        "id": "k5oDvKyUzJGP",
        "colab_type": "code",
        "colab": {}
      },
      "source": [
        "def func1(x):\n",
        "  beta=0.5\n",
        "  mu=np.array([0,0])\n",
        "  return(np.exp(-beta*(np.sum((x-mu))**2)))"
      ],
      "execution_count": null,
      "outputs": []
    },
    {
      "cell_type": "code",
      "metadata": {
        "id": "32nD17Lb0Q59",
        "colab_type": "code",
        "colab": {}
      },
      "source": [
        "def func2(x):\n",
        "  beta=0.5\n",
        "  mu=np.array([0,1])\n",
        "  return(np.exp(-beta*(np.sum((x-mu))**2)))"
      ],
      "execution_count": null,
      "outputs": []
    },
    {
      "cell_type": "code",
      "metadata": {
        "id": "KPr-q2s50TsY",
        "colab_type": "code",
        "colab": {}
      },
      "source": [
        "def func3(x):\n",
        "  beta=0.5\n",
        "  mu=np.array([1,0])\n",
        "  return(np.exp(-beta*(np.sum((x-mu))**2)))"
      ],
      "execution_count": null,
      "outputs": []
    },
    {
      "cell_type": "code",
      "metadata": {
        "id": "hfmQBxUe0WSA",
        "colab_type": "code",
        "colab": {}
      },
      "source": [
        "def func4(x):\n",
        "  beta=0.5\n",
        "  mu=np.array([1,1])\n",
        "  return(np.exp(-beta*(np.sum((x-mu))**2)))"
      ],
      "execution_count": null,
      "outputs": []
    },
    {
      "cell_type": "code",
      "metadata": {
        "id": "p7zcOb1K0kPu",
        "colab_type": "code",
        "colab": {
          "base_uri": "https://localhost:8080/",
          "height": 91
        },
        "outputId": "97eda165-15ba-4a29-b725-812c64fee956"
      },
      "source": [
        "hidden_input=[]\n",
        "for i in range(4):\n",
        "  print(\"Input: \", X[i])\n",
        "  hidden_input.append([])\n",
        "  hidden_input[i].append(func1(X[i]))\n",
        "  hidden_input[i].append(func2(X[i]))\n",
        "  hidden_input[i].append(func3(X[i]))\n",
        "  hidden_input[i].append(func4(X[i]))"
      ],
      "execution_count": null,
      "outputs": [
        {
          "output_type": "stream",
          "text": [
            "Input:  [0 0]\n",
            "Input:  [0 1]\n",
            "Input:  [1 0]\n",
            "Input:  [1 1]\n"
          ],
          "name": "stdout"
        }
      ]
    },
    {
      "cell_type": "code",
      "metadata": {
        "id": "rEiAkcIf09bZ",
        "colab_type": "code",
        "colab": {
          "base_uri": "https://localhost:8080/",
          "height": 91
        },
        "outputId": "9b02c86d-6e19-4f94-afee-0932fee8e6c3"
      },
      "source": [
        "hidden_input"
      ],
      "execution_count": null,
      "outputs": [
        {
          "output_type": "execute_result",
          "data": {
            "text/plain": [
              "[[1.0, 0.6065306597126334, 0.6065306597126334, 0.1353352832366127],\n",
              " [0.6065306597126334, 1.0, 1.0, 0.6065306597126334],\n",
              " [0.6065306597126334, 1.0, 1.0, 0.6065306597126334],\n",
              " [0.1353352832366127, 0.6065306597126334, 0.6065306597126334, 1.0]]"
            ]
          },
          "metadata": {
            "tags": []
          },
          "execution_count": 27
        }
      ]
    },
    {
      "cell_type": "code",
      "metadata": {
        "id": "4id5oFkY2QSv",
        "colab_type": "code",
        "colab": {}
      },
      "source": [
        "hidden=np.array(hidden_input)"
      ],
      "execution_count": null,
      "outputs": []
    },
    {
      "cell_type": "code",
      "metadata": {
        "id": "KrvsMtMh2h8e",
        "colab_type": "code",
        "colab": {}
      },
      "source": [
        "weights=np.array([-1, 1, 1, -1])"
      ],
      "execution_count": null,
      "outputs": []
    },
    {
      "cell_type": "code",
      "metadata": {
        "id": "pIP09Phb2uUp",
        "colab_type": "code",
        "colab": {}
      },
      "source": [
        "bias=1"
      ],
      "execution_count": null,
      "outputs": []
    },
    {
      "cell_type": "code",
      "metadata": {
        "id": "jTln3Ftx261E",
        "colab_type": "code",
        "colab": {}
      },
      "source": [
        "lr=1"
      ],
      "execution_count": null,
      "outputs": []
    },
    {
      "cell_type": "code",
      "metadata": {
        "id": "JViCo_-w3DaW",
        "colab_type": "code",
        "colab": {
          "base_uri": "https://localhost:8080/",
          "height": 1000
        },
        "outputId": "6cdceb7c-397b-414e-8ce4-8cd1fb54347e"
      },
      "source": [
        "for i in range(10):\n",
        "  print(\"Iteration: \",i)\n",
        "  k=0\n",
        "  for j in range(4):\n",
        "    print(\"Input: \", X[j])\n",
        "    print(\"Hidden: \", hidden[j])\n",
        "    s=0\n",
        "    s=np.sum(hidden[j]*weights)\n",
        "    \n",
        "    print(s)\n",
        "    if s>=0:\n",
        "      output=1\n",
        "    else:\n",
        "      output=0\n",
        "    print(\"Target: \", target[j])\n",
        "    print(\"Obtained Output: \", output)\n",
        "    if target[j]!=output:\n",
        "      k=k+1\n",
        "      weights=weights+lr*(target[j]-output)*hidden[j]\n",
        "    print(\"Updated Weights: \", weights)\n",
        "  if k==0:\n",
        "    print(\"Model has trained successfully\")\n",
        "    print(\"Final  Weights: \", weights)\n",
        "    break\n",
        "    \n",
        "    "
      ],
      "execution_count": null,
      "outputs": [
        {
          "output_type": "stream",
          "text": [
            "Iteration:  0\n",
            "Input:  [0 0]\n",
            "Hidden:  [1.         0.60653066 0.60653066 0.13533528]\n",
            "0.07772603618865415\n",
            "Target:  0\n",
            "Obtained Output:  1\n",
            "Updated Weights:  [-2.          0.39346934  0.39346934 -1.13533528]\n",
            "Input:  [0 1]\n",
            "Hidden:  [0.60653066 1.         1.         0.60653066]\n",
            "-1.114738297187066\n",
            "Target:  1\n",
            "Obtained Output:  0\n",
            "Updated Weights:  [-1.39346934  1.39346934  1.39346934 -0.52880462]\n",
            "Input:  [1 0]\n",
            "Hidden:  [0.60653066 1.         1.         0.60653066]\n",
            "1.6210205851558186\n",
            "Target:  1\n",
            "Obtained Output:  1\n",
            "Updated Weights:  [-1.39346934  1.39346934  1.39346934 -0.52880462]\n",
            "Input:  [1 1]\n",
            "Hidden:  [0.13533528 0.60653066 0.60653066 1.        ]\n",
            "0.9729735651343432\n",
            "Target:  0\n",
            "Obtained Output:  1\n",
            "Updated Weights:  [-1.52880462  0.78693868  0.78693868 -1.52880462]\n",
            "Iteration:  1\n",
            "Input:  [0 0]\n",
            "Hidden:  [1.         0.60653066 0.60653066 0.13533528]\n",
            "-0.7811009560972756\n",
            "Target:  0\n",
            "Obtained Output:  0\n",
            "Updated Weights:  [-1.52880462  0.78693868  0.78693868 -1.52880462]\n",
            "Input:  [0 1]\n",
            "Hidden:  [0.60653066 1.         1.         0.60653066]\n",
            "-0.2806563926059803\n",
            "Target:  1\n",
            "Obtained Output:  0\n",
            "Updated Weights:  [-0.92227396  1.78693868  1.78693868 -0.92227396]\n",
            "Input:  [1 0]\n",
            "Hidden:  [0.60653066 1.         1.         0.60653066]\n",
            "2.4551024897369045\n",
            "Target:  1\n",
            "Obtained Output:  1\n",
            "Updated Weights:  [-0.92227396  1.78693868  1.78693868 -0.92227396]\n",
            "Input:  [1 1]\n",
            "Hidden:  [0.13533528 0.60653066 0.60653066 1.        ]\n",
            "1.1205760216645233\n",
            "Target:  0\n",
            "Obtained Output:  1\n",
            "Updated Weights:  [-1.05760925  1.18040802  1.18040802 -1.92227396]\n",
            "Iteration:  2\n",
            "Input:  [0 0]\n",
            "Hidden:  [1.         0.60653066 0.60653066 0.13533528]\n",
            "0.11414657284841351\n",
            "Target:  0\n",
            "Obtained Output:  1\n",
            "Updated Weights:  [-2.05760925  0.57387736  0.57387736 -2.05760925]\n",
            "Input:  [0 1]\n",
            "Hidden:  [0.60653066 1.         1.         0.60653066]\n",
            "-1.3482514657866937\n",
            "Target:  1\n",
            "Obtained Output:  0\n",
            "Updated Weights:  [-1.45107859  1.57387736  1.57387736 -1.45107859]\n",
            "Input:  [1 0]\n",
            "Hidden:  [0.60653066 1.         1.         0.60653066]\n",
            "1.3875074165561911\n",
            "Target:  1\n",
            "Obtained Output:  1\n",
            "Updated Weights:  [-1.45107859  1.57387736  1.57387736 -1.45107859]\n",
            "Input:  [1 1]\n",
            "Hidden:  [0.13533528 0.60653066 0.60653066 1.        ]\n",
            "0.26174902937859335\n",
            "Target:  0\n",
            "Obtained Output:  1\n",
            "Updated Weights:  [-1.58641387  0.9673467   0.9673467  -2.45107859]\n",
            "Iteration:  3\n",
            "Input:  [0 0]\n",
            "Hidden:  [1.         0.60653066 0.60653066 0.13533528]\n",
            "-0.7446804194375161\n",
            "Target:  0\n",
            "Obtained Output:  0\n",
            "Updated Weights:  [-1.58641387  0.9673467   0.9673467  -2.45107859]\n",
            "Input:  [0 1]\n",
            "Hidden:  [0.60653066 1.         1.         0.60653066]\n",
            "-0.5141695612056081\n",
            "Target:  1\n",
            "Obtained Output:  0\n",
            "Updated Weights:  [-0.97988321  1.9673467   1.9673467  -1.84454793]\n",
            "Input:  [1 0]\n",
            "Hidden:  [0.60653066 1.         1.         0.60653066]\n",
            "2.2215893211372766\n",
            "Target:  1\n",
            "Obtained Output:  1\n",
            "Updated Weights:  [-0.97988321  1.9673467   1.9673467  -1.84454793]\n",
            "Input:  [1 1]\n",
            "Hidden:  [0.13533528 0.60653066 0.60653066 1.        ]\n",
            "0.4093514859087739\n",
            "Target:  0\n",
            "Obtained Output:  1\n",
            "Updated Weights:  [-1.11521849  1.36081604  1.36081604 -2.84454793]\n",
            "Iteration:  4\n",
            "Input:  [0 0]\n",
            "Hidden:  [1.         0.60653066 0.60653066 0.13533528]\n",
            "0.1505671095081731\n",
            "Target:  0\n",
            "Obtained Output:  1\n",
            "Updated Weights:  [-2.11521849  0.75428538  0.75428538 -2.97988321]\n",
            "Input:  [0 1]\n",
            "Hidden:  [0.60653066 1.         1.         0.60653066]\n",
            "-1.5817646343863216\n",
            "Target:  1\n",
            "Obtained Output:  0\n",
            "Updated Weights:  [-1.50868783  1.75428538  1.75428538 -2.37335255]\n",
            "Input:  [1 0]\n",
            "Hidden:  [0.60653066 1.         1.         0.60653066]\n",
            "1.153994247956563\n",
            "Target:  1\n",
            "Obtained Output:  1\n",
            "Updated Weights:  [-1.50868783  1.75428538  1.75428538 -2.37335255]\n",
            "Input:  [1 1]\n",
            "Hidden:  [0.13533528 0.60653066 0.60653066 1.        ]\n",
            "-0.4494755063771563\n",
            "Target:  0\n",
            "Obtained Output:  0\n",
            "Updated Weights:  [-1.50868783  1.75428538  1.75428538 -2.37335255]\n",
            "Iteration:  5\n",
            "Input:  [0 0]\n",
            "Hidden:  [1.         0.60653066 0.60653066 0.13533528]\n",
            "0.2981695660383531\n",
            "Target:  0\n",
            "Obtained Output:  1\n",
            "Updated Weights:  [-2.50868783  1.14775472  1.14775472 -2.50868783]\n",
            "Input:  [0 1]\n",
            "Hidden:  [0.60653066 1.         1.         0.60653066]\n",
            "-0.7476827298052362\n",
            "Target:  1\n",
            "Obtained Output:  0\n",
            "Updated Weights:  [-1.90215717  2.14775472  2.14775472 -1.90215717]\n",
            "Input:  [1 0]\n",
            "Hidden:  [0.60653066 1.         1.         0.60653066]\n",
            "1.9880761525376485\n",
            "Target:  1\n",
            "Obtained Output:  1\n",
            "Updated Weights:  [-1.90215717  2.14775472  2.14775472 -1.90215717]\n",
            "Input:  [1 1]\n",
            "Hidden:  [0.13533528 0.60653066 0.60653066 1.        ]\n",
            "0.44577202256853243\n",
            "Target:  0\n",
            "Obtained Output:  1\n",
            "Updated Weights:  [-2.03749246  1.54122406  1.54122406 -2.90215717]\n",
            "Iteration:  6\n",
            "Input:  [0 0]\n",
            "Hidden:  [1.         0.60653066 0.60653066 0.13533528]\n",
            "-0.5606574262475765\n",
            "Target:  0\n",
            "Obtained Output:  0\n",
            "Updated Weights:  [-2.03749246  1.54122406  1.54122406 -2.90215717]\n",
            "Input:  [0 1]\n",
            "Hidden:  [0.60653066 1.         1.         0.60653066]\n",
            "0.08639917477584946\n",
            "Target:  1\n",
            "Obtained Output:  1\n",
            "Updated Weights:  [-2.03749246  1.54122406  1.54122406 -2.90215717]\n",
            "Input:  [1 0]\n",
            "Hidden:  [0.60653066 1.         1.         0.60653066]\n",
            "0.08639917477584946\n",
            "Target:  1\n",
            "Obtained Output:  1\n",
            "Updated Weights:  [-2.03749246  1.54122406  1.54122406 -2.90215717]\n",
            "Input:  [1 1]\n",
            "Hidden:  [0.13533528 0.60653066 0.60653066 1.        ]\n",
            "-1.3083024986630858\n",
            "Target:  0\n",
            "Obtained Output:  0\n",
            "Updated Weights:  [-2.03749246  1.54122406  1.54122406 -2.90215717]\n",
            "Model has trained successfully\n",
            "Final  Weights:  [-2.03749246  1.54122406  1.54122406 -2.90215717]\n"
          ],
          "name": "stdout"
        }
      ]
    },
    {
      "cell_type": "code",
      "metadata": {
        "id": "DftXz7kk5aXY",
        "colab_type": "code",
        "colab": {}
      },
      "source": [
        ""
      ],
      "execution_count": null,
      "outputs": []
    }
  ]
}
