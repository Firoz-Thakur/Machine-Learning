{
 "cells": [
  {
   "cell_type": "code",
   "execution_count": 9,
   "metadata": {},
   "outputs": [
    {
     "name": "stdout",
     "output_type": "stream",
     "text": [
      "0   0\n",
      "0\n",
      "1   0\n",
      "0\n",
      "0   1\n",
      "0\n",
      "1   1\n",
      "1\n"
     ]
    }
   ],
   "source": [
    "//AND\n",
    "import numpy as np\n",
    "x1=[0,1,0,1]\n",
    "x2=[0,0,1,1]\n",
    "ini=0\n",
    "th=2\n",
    "if(ini==0):\n",
    "    for i in range(len(x1)):\n",
    "        print(x1[i],\" \",x2[i])\n",
    "        sum=x1[i]+x2[i]\n",
    "        if(sum>=th):\n",
    "         print(\"1\")\n",
    "        else:\n",
    "         print(\"0\")\n",
    "else:\n",
    " print(\"neuron does'nt fired at all\")"
   ]
  },
  {
   "cell_type": "code",
   "execution_count": 10,
   "metadata": {},
   "outputs": [
    {
     "name": "stdout",
     "output_type": "stream",
     "text": [
      "0   0\n",
      "0\n",
      "1   0\n",
      "1\n",
      "0   1\n",
      "1\n",
      "1   1\n",
      "1\n"
     ]
    }
   ],
   "source": [
    "//oOR\n",
    "\n",
    "import numpy as np\n",
    "x1=[0,1,0,1]\n",
    "x2=[0,0,1,1]\n",
    "ini=0\n",
    "th=1\n",
    "if(ini==0):\n",
    "    for i in range(len(x1)):\n",
    "        print(x1[i],\" \",x2[i])\n",
    "        sum=x1[i]+x2[i]\n",
    "        if(sum>=th):\n",
    "         print(\"1\")\n",
    "        else:\n",
    "         print(\"0\")\n",
    "else:\n",
    " print(\"neuron does'nt fired at all\")"
   ]
  },
  {
   "cell_type": "code",
   "execution_count": 11,
   "metadata": {},
   "outputs": [
    {
     "name": "stdout",
     "output_type": "stream",
     "text": [
      "0   0   0\n",
      "0\n",
      "0   0   1\n",
      "0\n",
      "0   1   0\n",
      "0\n",
      "0   1   1\n",
      "0\n",
      "1   0   0\n",
      "0\n",
      "1   0   1\n",
      "0\n",
      "1   1   0\n",
      "0\n",
      "1   1   1\n",
      "1\n"
     ]
    }
   ],
   "source": [
    "//AND\n",
    "\n",
    "\n",
    "import numpy as np\n",
    "x1=[0,0,0,0,1,1,1,1]\n",
    "x2=[0,0,1,1,0,0,1,1]\n",
    "x3=[0,1,0,1,0,1,0,1]\n",
    "ini=0\n",
    "th=3\n",
    "if(ini==0):\n",
    "    for i in range(len(x1)):\n",
    "        print(x1[i],\" \",x2[i],\" \",x3[i])\n",
    "        sum=x1[i]+x2[i]+x3[i]\n",
    "        if(sum>=th):\n",
    "         print(\"1\")\n",
    "        else:\n",
    "         print(\"0\")\n",
    "else:\n",
    " print(\"neuron does'nt fired at all\")"
   ]
  },
  {
   "cell_type": "code",
   "execution_count": 12,
   "metadata": {},
   "outputs": [
    {
     "name": "stdout",
     "output_type": "stream",
     "text": [
      "0   0   0\n",
      "0\n",
      "0   0   1\n",
      "1\n",
      "0   1   0\n",
      "1\n",
      "0   1   1\n",
      "1\n",
      "1   0   0\n",
      "1\n",
      "1   0   1\n",
      "1\n",
      "1   1   0\n",
      "1\n",
      "1   1   1\n",
      "1\n"
     ]
    }
   ],
   "source": [
    "// OR\n",
    "\n",
    "\n",
    "import numpy as np\n",
    "x1=[0,0,0,0,1,1,1,1]\n",
    "x2=[0,0,1,1,0,0,1,1]\n",
    "x3=[0,1,0,1,0,1,0,1]\n",
    "ini=0\n",
    "th=1\n",
    "if(ini==0):\n",
    "    for i in range(len(x1)):\n",
    "        print(x1[i],\" \",x2[i],\" \",x3[i])\n",
    "        sum=x1[i]+x2[i]+x3[i]\n",
    "        if(sum>=th):\n",
    "         print(\"1\")\n",
    "        else:\n",
    "         print(\"0\")\n",
    "else:\n",
    " print(\"neuron does'nt fired at all\")"
   ]
  },
  {
   "cell_type": "code",
   "execution_count": null,
   "metadata": {},
   "outputs": [],
   "source": []
  }
 ],
 "metadata": {
  "kernelspec": {
   "display_name": "Python 3",
   "language": "python",
   "name": "python3"
  },
  "language_info": {
   "codemirror_mode": {
    "name": "ipython",
    "version": 3
   },
   "file_extension": ".py",
   "mimetype": "text/x-python",
   "name": "python",
   "nbconvert_exporter": "python",
   "pygments_lexer": "ipython3",
   "version": "3.7.8"
  }
 },
 "nbformat": 4,
 "nbformat_minor": 4
}
