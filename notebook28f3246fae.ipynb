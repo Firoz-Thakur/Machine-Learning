{
 "cells": [
  {
   "cell_type": "code",
   "execution_count": 1,
   "metadata": {
    "_cell_guid": "b1076dfc-b9ad-4769-8c92-a6c4dae69d19",
    "_uuid": "8f2839f25d086af736a60e9eeb907d3b93b6e0e5",
    "execution": {
     "iopub.execute_input": "2021-02-18T14:18:11.667780Z",
     "iopub.status.busy": "2021-02-18T14:18:11.666897Z",
     "iopub.status.idle": "2021-02-18T14:18:11.672804Z",
     "shell.execute_reply": "2021-02-18T14:18:11.672189Z"
    },
    "papermill": {
     "duration": 0.017046,
     "end_time": "2021-02-18T14:18:11.673002",
     "exception": false,
     "start_time": "2021-02-18T14:18:11.655956",
     "status": "completed"
    },
    "tags": []
   },
   "outputs": [
    {
     "name": "stdout",
     "output_type": "stream",
     "text": [
      "/kaggle/input/int247-ca1-lpu/train_data.csv\n",
      "/kaggle/input/int247-ca1-lpu/test_data.csv\n",
      "/kaggle/input/int247-ca1-lpu/sample_sol.csv\n"
     ]
    }
   ],
   "source": [
    "# This Python 3 environment comes with many helpful analytics libraries installed\n",
    "# It is defined by the kaggle/python Docker image: https://github.com/kaggle/docker-python\n",
    "# For example, here's several helpful packages to load\n",
    "\n",
    "import numpy as np # linear algebra\n",
    "import pandas as pd # data processing, CSV file I/O (e.g. pd.read_csv)\n",
    "\n",
    "# Input data files are available in the read-only \"../input/\" directory\n",
    "# For example, running this (by clicking run or pressing Shift+Enter) will list all files under the input directory\n",
    "\n",
    "import os\n",
    "for dirname, _, filenames in os.walk('/kaggle/input'):\n",
    "    for filename in filenames:\n",
    "        print(os.path.join(dirname, filename))\n",
    "\n",
    "# You can write up to 20GB to the current directory (/kaggle/working/) that gets preserved as output when you create a version using \"Save & Run All\" \n",
    "# You can also write temporary files to /kaggle/temp/, but they won't be saved outside of the current session"
   ]
  },
  {
   "cell_type": "code",
   "execution_count": 2,
   "metadata": {
    "execution": {
     "iopub.execute_input": "2021-02-18T14:18:11.685671Z",
     "iopub.status.busy": "2021-02-18T14:18:11.685071Z",
     "iopub.status.idle": "2021-02-18T14:18:11.739597Z",
     "shell.execute_reply": "2021-02-18T14:18:11.738611Z"
    },
    "papermill": {
     "duration": 0.06157,
     "end_time": "2021-02-18T14:18:11.739803",
     "exception": false,
     "start_time": "2021-02-18T14:18:11.678233",
     "status": "completed"
    },
    "tags": []
   },
   "outputs": [
    {
     "name": "stdout",
     "output_type": "stream",
     "text": [
      "Index(['Serial_no', 'Age', 'Workclass', 'Education', 'Education_num',\n",
      "       'Marital_status', 'Occupation', 'Relationship', 'Race', 'Sex',\n",
      "       'Capital_gain', 'Capital_loss', 'Hours_per_week', 'Native_country'],\n",
      "      dtype='object')\n",
      "0       0\n",
      "1       0\n",
      "2       0\n",
      "3       0\n",
      "4       0\n",
      "       ..\n",
      "1995    0\n",
      "1996    1\n",
      "1997    0\n",
      "1998    1\n",
      "1999    0\n",
      "Name: Salary, Length: 2000, dtype: int64\n",
      "Index(['Serial_no', 'Age', 'Workclass', 'Education', 'Education_num',\n",
      "       'Marital_status', 'Occupation', 'Relationship', 'Race', 'Sex',\n",
      "       'Capital_gain', 'Capital_loss', 'Hours_per_week', 'Native_country'],\n",
      "      dtype='object')\n"
     ]
    }
   ],
   "source": [
    "import pandas as pd\n",
    "\n",
    "train = pd.read_csv('../input/int247-ca1-lpu/train_data.csv')\n",
    "test = pd.read_csv('../input/int247-ca1-lpu/test_data.csv')\n",
    "\n",
    "y = train.Salary\n",
    "X = train.drop([\"Salary\"],axis=1)\n",
    "\n",
    "print(X.columns)\n",
    "print(y)\n",
    "print(test.columns)"
   ]
  },
  {
   "cell_type": "code",
   "execution_count": 3,
   "metadata": {
    "execution": {
     "iopub.execute_input": "2021-02-18T14:18:11.755555Z",
     "iopub.status.busy": "2021-02-18T14:18:11.754970Z",
     "iopub.status.idle": "2021-02-18T14:18:11.757930Z",
     "shell.execute_reply": "2021-02-18T14:18:11.758419Z"
    },
    "papermill": {
     "duration": 0.012778,
     "end_time": "2021-02-18T14:18:11.758605",
     "exception": false,
     "start_time": "2021-02-18T14:18:11.745827",
     "status": "completed"
    },
    "tags": []
   },
   "outputs": [
    {
     "name": "stdout",
     "output_type": "stream",
     "text": [
      "Index(['Serial_no', 'Age', 'Workclass', 'Education', 'Education_num',\n",
      "       'Marital_status', 'Occupation', 'Relationship', 'Race', 'Sex',\n",
      "       'Capital_gain', 'Capital_loss', 'Hours_per_week', 'Native_country'],\n",
      "      dtype='object')\n"
     ]
    }
   ],
   "source": [
    "print(X.columns)"
   ]
  },
  {
   "cell_type": "code",
   "execution_count": 4,
   "metadata": {
    "execution": {
     "iopub.execute_input": "2021-02-18T14:18:11.772098Z",
     "iopub.status.busy": "2021-02-18T14:18:11.771563Z",
     "iopub.status.idle": "2021-02-18T14:18:11.778402Z",
     "shell.execute_reply": "2021-02-18T14:18:11.778939Z"
    },
    "papermill": {
     "duration": 0.015203,
     "end_time": "2021-02-18T14:18:11.779111",
     "exception": false,
     "start_time": "2021-02-18T14:18:11.763908",
     "status": "completed"
    },
    "tags": []
   },
   "outputs": [
    {
     "name": "stdout",
     "output_type": "stream",
     "text": [
      "Categorical variables:\n",
      "['Workclass', 'Education', 'Marital_status', 'Occupation', 'Relationship', 'Race', 'Sex', 'Native_country']\n"
     ]
    }
   ],
   "source": [
    "s = (X.dtypes == 'object')\n",
    "object_cols = list(s[s].index)\n",
    "\n",
    "print(\"Categorical variables:\")\n",
    "print(object_cols)"
   ]
  },
  {
   "cell_type": "code",
   "execution_count": 5,
   "metadata": {
    "execution": {
     "iopub.execute_input": "2021-02-18T14:18:11.795966Z",
     "iopub.status.busy": "2021-02-18T14:18:11.795355Z",
     "iopub.status.idle": "2021-02-18T14:18:12.717797Z",
     "shell.execute_reply": "2021-02-18T14:18:12.718254Z"
    },
    "papermill": {
     "duration": 0.933598,
     "end_time": "2021-02-18T14:18:12.718434",
     "exception": false,
     "start_time": "2021-02-18T14:18:11.784836",
     "status": "completed"
    },
    "tags": []
   },
   "outputs": [],
   "source": [
    "# using label encoder\n",
    "from sklearn.preprocessing import LabelEncoder\n",
    "X_label = X.copy()\n",
    "test_label = test.copy()\n",
    "\n",
    "label_encoder = LabelEncoder()\n",
    "for col in object_cols:\n",
    "    X_label[col] = label_encoder.fit_transform(X[col])\n",
    "    test_label[col] = label_encoder.fit_transform(test[col])"
   ]
  },
  {
   "cell_type": "code",
   "execution_count": 6,
   "metadata": {
    "execution": {
     "iopub.execute_input": "2021-02-18T14:18:12.736240Z",
     "iopub.status.busy": "2021-02-18T14:18:12.735322Z",
     "iopub.status.idle": "2021-02-18T14:18:13.382892Z",
     "shell.execute_reply": "2021-02-18T14:18:13.382070Z"
    },
    "papermill": {
     "duration": 0.658789,
     "end_time": "2021-02-18T14:18:13.383059",
     "exception": false,
     "start_time": "2021-02-18T14:18:12.724270",
     "status": "completed"
    },
    "tags": []
   },
   "outputs": [
    {
     "data": {
      "text/plain": [
       "RandomForestClassifier()"
      ]
     },
     "execution_count": 6,
     "metadata": {},
     "output_type": "execute_result"
    }
   ],
   "source": [
    "from sklearn.naive_bayes import GaussianNB\n",
    "from sklearn.ensemble import RandomForestClassifier\n",
    "from sklearn.metrics import mean_absolute_error\n",
    "from sklearn.neighbors import KNeighborsClassifier\n",
    "\n",
    "model = GaussianNB()\n",
    "model1 = RandomForestClassifier()\n",
    "model2 = KNeighborsClassifier()\n",
    "\n",
    "models = [model, model1, model2]\n",
    "\n",
    "model1.fit(X_label, y)"
   ]
  },
  {
   "cell_type": "code",
   "execution_count": 7,
   "metadata": {
    "execution": {
     "iopub.execute_input": "2021-02-18T14:18:13.402929Z",
     "iopub.status.busy": "2021-02-18T14:18:13.402018Z",
     "iopub.status.idle": "2021-02-18T14:18:13.437146Z",
     "shell.execute_reply": "2021-02-18T14:18:13.437844Z"
    },
    "papermill": {
     "duration": 0.049,
     "end_time": "2021-02-18T14:18:13.438209",
     "exception": false,
     "start_time": "2021-02-18T14:18:13.389209",
     "status": "completed"
    },
    "tags": []
   },
   "outputs": [
    {
     "name": "stdout",
     "output_type": "stream",
     "text": [
      "[0 0 0 1 0 0 0 1 0 0 1 0 0 0 1 1 0 0 0 1 1 0 0 0 0 1 0 0 0 0 1 0 0 0 0 1 1\n",
      " 0 0 0 0 1 0 0 0 0 0 1 0 0 0 0 0 1 0 0 1 1 1 0 0 0 0 0 0 0 1 0 0 0 1 1 0 0\n",
      " 0 0 0 0 1 0 1 0 0 1 0 0 0 1 0 1 0 0 1 0 0 0 0 0 1 0 0 0 0 0 0 0 1 0 0 0 0\n",
      " 0 0 0 0 0 1 0 0 0 0 0 0 0 0 0 1 0 0 1 1 0 0 1 1 0 0 0 0 0 1 0 1 1 0 0 0 0\n",
      " 1 0 0 0 0 0 1 0 0 0 0 0 0 0 0 0 1 1 0 0 0 0 1 0 0 0 0 1 0 0 0 1 0 1 0 1 0\n",
      " 0 0 0 0 0 1 0 0 0 0 0 0 1 0 0 1 0 0 0 1 1 0 0 1 0 0 0 1 1 0 1 0 0 0 0 1 0\n",
      " 0 1 1 1 1 1 0 0 0 1 0 0 0 0 1 0 0 0 0 1 0 0 0 0 0 0 1 1 0 0 0 0 0 0 0 0 0\n",
      " 0 1 0 0 0 0 0 1 0 0 0 0 0 0 0 0 0 0 0 1 0 1 0 0 0 1 0 0 1 1 0 0 0 0 0 0 0\n",
      " 0 0 1 0 1 0 0 0 0 0 0 0 1 1 0 0 1 0 0 0 0 0 1 1 0 1 1 0 0 1 0 0 0 1 0 0 1\n",
      " 0 1 0 0 0 0 1 0 0 0 1 1 0 1 1 0 0 0 0 0 0 0 1 0 1 0 0 0 0 0 0 1 1 1 1 1 0\n",
      " 0 0 0 0 0 1 0 0 0 0 1 0 1 0 0 0 0 0 1 1 0 0 0 0 0 0 1 0 1 1 0 0 0 0 0 0 0\n",
      " 0 0 1 0 0 0 0 0 0 0 0 1 0 0 0 0 0 0 0 0 0 0 0 1 0 0 0 0 1 0 0 0 1 0 0 0 0\n",
      " 0 1 1 0 0 0 0 0 1 0 0 0 0 1 0 0 1 0 1 0 1 0 1 1 0 0 0 0 0 0 0 0 0 0 0 0 0\n",
      " 0 0 1 0 0 0 0 0 0 0 0 0 0 0 1 0 0 0 0 0 0 0 0 0 1 0 1 0 0 0 0 0 0 0 0 0 0\n",
      " 1 0 0 0 1 0 1 0 1 0 0 1 0 0 0 0 0 1 0 1 1 0 0 1 0 0 1 1 1 0 0 1 0 0 1 1 1\n",
      " 1 1 1 1 0 0 0 1 0 0 0 0 0 1 0 0 0 1 0 1 1 0 0 1 0 0 1 1 0 0 0 0 1 0 0 0 0\n",
      " 0 0 1 0 0 1 1 0 0 0 0 1 0 0 0 1 0 0 0 1 0 0 0 0 0 0 1 1 0 0 0 0 0 1 0 1 0\n",
      " 1 0 0 0 0 0 1 0 0 0 0 0 0 1 1 0 0 0 0 0 0 0 0 1 0 1 0 1 0 0 0 1 0 0 0 0 0\n",
      " 1 0 0 1 0 0 0 0 0 0 0 0 0 1 0 0 1 1 1 0 1 0 0 0 0 0 1 0 0 0 0 0 1 0 0 1 1\n",
      " 0 0 0 1 0 0 1 1 0 1 0 1 0 0 0 0 1 0 1 0 0 0 0 1 0 0 0 0 0 1 0 0 0 0 0 0 0\n",
      " 0 1 0 1 0 0 0 0 0 1 1 0 0 0 0 0 0 0 0 1 0 1 0 0 0 0 0 0 0 0 0 0 0 0 0 0 1\n",
      " 0 0 0 0 1 1 0 1 1 1 1 0 0 0 0 0 0 0 0 0 1 0 0 0 0 0 0 0 0 0 1 0 0 0 0 0 1\n",
      " 0 1 0 0 0 0 0 0 0 0 1 0 0 0 1 1 1 0 0 0 0 0 0 0 0 0 0 0 0 1 0 0 0 0 1 0 0\n",
      " 1 0 0 0 1 0 0 1 0 0 1 0 0 0 0 1 0 1 0 1 0 0 1 0 1 0 0 1 0 0 0 1 0 1 1 0 1\n",
      " 0 1 0 0 0 0 0 0 0 1 0 1 1 1 0 0 0 1 0 1 1 1 0 0 1 0 0 0 0 0 1 0 0 1 1 0 0\n",
      " 0 0 0 0 0 0 1 0 0 1 0 0 1 0 0 1 1 0 1 0 1 0 0 0 0 0 0 0 0 1 0 0 1 1 1 0 0\n",
      " 0 0 1 0 0 0 0 0 0 1 1 0 0 0 0 1 1 1 0 0 0 0 1 0 1 0 0 0 0 1 1 1 1 0 0 0 1\n",
      " 0]\n"
     ]
    }
   ],
   "source": [
    "full_preds = model1.predict(test_label)\n",
    "print(full_preds)\n",
    "\n",
    "output = pd.DataFrame({'Serial_no' : test.Serial_no,\n",
    "                       'Salary' : full_preds})\n",
    "output.to_csv('submission.csv', index = False)\n",
    "\n"
   ]
  }
 ],
 "metadata": {
  "kernelspec": {
   "display_name": "Python 3",
   "language": "python",
   "name": "python3"
  },
  "language_info": {
   "codemirror_mode": {
    "name": "ipython",
    "version": 3
   },
   "file_extension": ".py",
   "mimetype": "text/x-python",
   "name": "python",
   "nbconvert_exporter": "python",
   "pygments_lexer": "ipython3",
   "version": "3.7.9"
  },
  "papermill": {
   "default_parameters": {},
   "duration": 7.716891,
   "end_time": "2021-02-18T14:18:14.055615",
   "environment_variables": {},
   "exception": null,
   "input_path": "__notebook__.ipynb",
   "output_path": "__notebook__.ipynb",
   "parameters": {},
   "start_time": "2021-02-18T14:18:06.338724",
   "version": "2.2.2"
  }
 },
 "nbformat": 4,
 "nbformat_minor": 4
}
